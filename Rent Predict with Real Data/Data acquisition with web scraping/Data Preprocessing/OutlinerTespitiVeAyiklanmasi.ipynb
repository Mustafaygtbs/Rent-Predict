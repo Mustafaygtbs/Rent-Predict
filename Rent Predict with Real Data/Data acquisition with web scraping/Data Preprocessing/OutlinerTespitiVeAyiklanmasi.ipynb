{
 "cells": [
  {
   "cell_type": "code",
   "id": "initial_id",
   "metadata": {
    "collapsed": true,
    "ExecuteTime": {
     "end_time": "2025-03-22T22:25:23.858947Z",
     "start_time": "2025-03-22T22:25:23.847790Z"
    }
   },
   "source": [
    "import pandas as pd\n",
    "import numpy as np\n",
    "import matplotlib.pyplot as plt\n",
    "from sklearn.preprocessing import StandardScaler\n",
    "from sklearn.cluster import DBSCAN\n",
    "from sklearn.model_selection import train_test_split\n",
    "from xgboost import XGBRegressor\n",
    "from sklearn.metrics import mean_squared_error, mean_absolute_error, r2_score\n",
    "\n",
    "df = pd.read_csv('BirlesikVeriSeti.csv', encoding='utf-8')\n"
   ],
   "outputs": [],
   "execution_count": 9
  },
  {
   "metadata": {
    "ExecuteTime": {
     "end_time": "2025-03-22T22:25:24.437246Z",
     "start_time": "2025-03-22T22:25:24.429489Z"
    }
   },
   "cell_type": "code",
   "source": "df.isnull().sum()",
   "id": "f9d665668a821c85",
   "outputs": [
    {
     "data": {
      "text/plain": [
       "Price (TL)         0\n",
       "Room               0\n",
       "Size (m²)          0\n",
       "Building Age    1211\n",
       "IL                 0\n",
       "ILCE               0\n",
       "Neighborhood       0\n",
       "dtype: int64"
      ]
     },
     "execution_count": 10,
     "metadata": {},
     "output_type": "execute_result"
    }
   ],
   "execution_count": 10
  },
  {
   "metadata": {
    "ExecuteTime": {
     "end_time": "2025-03-22T22:25:29.057707Z",
     "start_time": "2025-03-22T22:25:29.051893Z"
    }
   },
   "cell_type": "code",
   "source": [
    "def detect_outliers_dbscan(df, columns, eps=1.0, min_samples=10):\n",
    "    df_subset = df[columns].dropna()\n",
    "    scaler = StandardScaler()\n",
    "    scaled_data = scaler.fit_transform(df_subset)\n",
    "    dbscan = DBSCAN(eps=eps, min_samples=min_samples)\n",
    "    clusters = dbscan.fit_predict(scaled_data)\n",
    "    outlier_mask = clusters == -1\n",
    "    outliers = df_subset[outlier_mask]\n",
    "    return outliers, df_subset.index[outlier_mask]"
   ],
   "id": "e634114bcedef3e0",
   "outputs": [],
   "execution_count": 11
  },
  {
   "metadata": {
    "ExecuteTime": {
     "end_time": "2025-03-22T22:25:39.934123Z",
     "start_time": "2025-03-22T22:25:39.810081Z"
    }
   },
   "cell_type": "code",
   "source": [
    "\n",
    "dbscan_columns = ['Price (TL)', 'Size (m²)', 'Building Age']\n",
    "dbscan_outliers, dbscan_indices = detect_outliers_dbscan(df, dbscan_columns, eps=1.0, min_samples=10)\n",
    "\n",
    "print(f\"DBSCAN ile tespit edilen aykırı değer sayısı: {len(dbscan_outliers)}\")\n",
    "if len(dbscan_outliers) > 0:\n",
    "    print(\"\\nDBSCAN Aykırı Değer Örnekleri:\")\n",
    "    print(dbscan_outliers)\n",
    "\n",
    "df_clean = df.drop(index=dbscan_indices)\n",
    "print(f\"\\nOrijinal veri seti boyutu: {df.shape}\")\n",
    "print(f\"Temizlenmiş veri seti boyutu: {df_clean.shape}\")\n",
    "print(f\"Çıkarılan aykırı değer sayısı: {len(dbscan_indices)}\")\n",
    "\n",
    "df_clean.to_csv('emlak_veri_temiz_outliers_removed.csv', index=False)\n",
    "print(\"\\nAykırı değerleri temizlenmiş veri seti kaydedildi: emlak_veri_temiz_outliers_removed.csv\")"
   ],
   "id": "7330df8246c92470",
   "outputs": [
    {
     "name": "stdout",
     "output_type": "stream",
     "text": [
      "DBSCAN ile tespit edilen aykırı değer sayısı: 13\n",
      "\n",
      "DBSCAN Aykırı Değer Örnekleri:\n",
      "      Price (TL)  Size (m²)  Building Age\n",
      "395        19000        125         530.0\n",
      "470       120000        750          15.0\n",
      "658       525000        155          35.0\n",
      "671        65000        412           4.0\n",
      "1206       65000        425          16.0\n",
      "1385      100000        300          40.0\n",
      "1455       36000        190         121.0\n",
      "1529      120000        450          20.0\n",
      "1555     2450000        135          39.0\n",
      "1916       92000        450          15.0\n",
      "2087       15000         90         235.0\n",
      "2210       75000        375          16.0\n",
      "2293       47500        245          45.0\n",
      "\n",
      "Orijinal veri seti boyutu: (3406, 7)\n",
      "Temizlenmiş veri seti boyutu: (3393, 7)\n",
      "Çıkarılan aykırı değer sayısı: 13\n",
      "\n",
      "Aykırı değerleri temizlenmiş veri seti kaydedildi: emlak_veri_temiz_outliers_removed.csv\n"
     ]
    }
   ],
   "execution_count": 12
  },
  {
   "metadata": {
    "ExecuteTime": {
     "end_time": "2025-03-22T22:25:40.840450Z",
     "start_time": "2025-03-22T22:25:40.831721Z"
    }
   },
   "cell_type": "code",
   "source": "df.isnull().sum()",
   "id": "8580d053501b51cd",
   "outputs": [
    {
     "data": {
      "text/plain": [
       "Price (TL)         0\n",
       "Room               0\n",
       "Size (m²)          0\n",
       "Building Age    1211\n",
       "IL                 0\n",
       "ILCE               0\n",
       "Neighborhood       0\n",
       "dtype: int64"
      ]
     },
     "execution_count": 13,
     "metadata": {},
     "output_type": "execute_result"
    }
   ],
   "execution_count": 13
  },
  {
   "metadata": {},
   "cell_type": "code",
   "outputs": [],
   "execution_count": null,
   "source": "",
   "id": "f862cf12a3172ca0"
  }
 ],
 "metadata": {
  "kernelspec": {
   "display_name": "Python 3",
   "language": "python",
   "name": "python3"
  },
  "language_info": {
   "codemirror_mode": {
    "name": "ipython",
    "version": 2
   },
   "file_extension": ".py",
   "mimetype": "text/x-python",
   "name": "python",
   "nbconvert_exporter": "python",
   "pygments_lexer": "ipython2",
   "version": "2.7.6"
  }
 },
 "nbformat": 4,
 "nbformat_minor": 5
}
