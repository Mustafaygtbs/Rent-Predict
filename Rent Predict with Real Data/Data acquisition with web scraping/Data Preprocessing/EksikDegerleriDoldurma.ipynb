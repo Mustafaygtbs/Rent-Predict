{
 "cells": [
  {
   "cell_type": "code",
   "id": "initial_id",
   "metadata": {
    "collapsed": true,
    "ExecuteTime": {
     "end_time": "2025-03-22T23:07:55.103979Z",
     "start_time": "2025-03-22T23:07:55.093068Z"
    }
   },
   "source": [
    "import pandas as pd\n",
    "import numpy as np\n",
    "from sklearn.model_selection import train_test_split, GridSearchCV\n",
    "from sklearn.preprocessing import StandardScaler, OneHotEncoder\n",
    "from sklearn.compose import ColumnTransformer\n",
    "from sklearn.pipeline import Pipeline\n",
    "from sklearn.metrics import mean_squared_error, mean_absolute_error, r2_score\n",
    "from xgboost import XGBRegressor\n",
    "import joblib\n",
    "\n",
    "df = pd.read_csv('emlak_veri_temiz_outliers_removed.csv', encoding='utf-8')"
   ],
   "outputs": [],
   "execution_count": 33
  },
  {
   "metadata": {
    "ExecuteTime": {
     "end_time": "2025-03-22T23:07:55.625359Z",
     "start_time": "2025-03-22T23:07:55.616237Z"
    }
   },
   "cell_type": "code",
   "source": "df.isnull().sum()",
   "id": "3a0f2be405bd14c9",
   "outputs": [
    {
     "data": {
      "text/plain": [
       "Price (TL)         0\n",
       "Room               0\n",
       "Size (m²)          0\n",
       "Building Age    1211\n",
       "IL                 0\n",
       "ILCE               0\n",
       "Neighborhood       0\n",
       "dtype: int64"
      ]
     },
     "execution_count": 34,
     "metadata": {},
     "output_type": "execute_result"
    }
   ],
   "execution_count": 34
  },
  {
   "metadata": {
    "ExecuteTime": {
     "end_time": "2025-03-22T23:07:57.529945Z",
     "start_time": "2025-03-22T23:07:56.658183Z"
    }
   },
   "cell_type": "code",
   "source": [
    "df_filled = df.copy()\n",
    "\n",
    "\n",
    "ilce_mah_mean = df[df['Building Age'].notna()].groupby(['ILCE', 'Neighborhood'])['Building Age'].mean()\n",
    "ilce_mean = df[df['Building Age'].notna()].groupby('ILCE')['Building Age'].mean()\n",
    "general_mean = df['Building Age'].mean()\n",
    "\n",
    "\n",
    "for idx, row in df[df['Building Age'].isna()].iterrows():\n",
    "    try:\n",
    "        df_filled.loc[idx, 'Building Age'] = ilce_mah_mean.loc[(row['ILCE'], row['Neighborhood'])]\n",
    "    except:\n",
    "        try:\n",
    "            df_filled.loc[idx, 'Building Age'] = ilce_mean.loc[row['ILCE']]\n",
    "        except:\n",
    "            df_filled.loc[idx, 'Building Age'] = general_mean\n",
    "\n",
    "def convert_room(room_str):\n",
    "    try:\n",
    "        if '+' in str(room_str):\n",
    "            parts = str(room_str).split('+')\n",
    "            return sum(int(part) for part in parts if part.isdigit())\n",
    "        elif str(room_str).lower() == 'stüdyo':\n",
    "            return 1\n",
    "        else:\n",
    "            return int(room_str)\n",
    "    except:\n",
    "        return np.nan\n",
    "\n",
    "df_filled['Room_Numeric'] = df_filled['Room'].apply(convert_room)\n",
    "\n",
    "if df_filled['Room_Numeric'].isnull().sum() > 0:\n",
    "    df_filled['Room_Numeric'] = df_filled['Room_Numeric'].fillna(df_filled['Room_Numeric'].median())\n",
    "\n",
    "\n",
    "print(f\"Doldurma sonrası Building Age eksik değer sayısı: {df_filled['Building Age'].isnull().sum()}\")\n",
    "print(f\"Room_Numeric eksik değer sayısı: {df_filled['Room_Numeric'].isnull().sum()}\")\n",
    "\n",
    "\n",
    "X = df_filled.drop('Price (TL)', axis=1)\n",
    "y = df_filled['Price (TL)']\n",
    "\n",
    "X_train, X_test, y_train, y_test = train_test_split(X, y, test_size=0.2, random_state=42)\n",
    "\n",
    "numeric_features = ['Size (m²)', 'Building Age', 'Room_Numeric']\n",
    "categorical_features = ['ILCE', 'Neighborhood']\n",
    "\n",
    "preprocessor = ColumnTransformer(\n",
    "    transformers=[\n",
    "        ('num', StandardScaler(), numeric_features),\n",
    "        ('cat', OneHotEncoder(handle_unknown='ignore'), categorical_features)\n",
    "    ])\n",
    "\n",
    "\n",
    "xgb_pipeline = Pipeline([\n",
    "    ('preprocessor', preprocessor),\n",
    "    ('model', XGBRegressor(\n",
    "        n_estimators=200,\n",
    "        learning_rate=0.01,\n",
    "        max_depth=7,\n",
    "        colsample_bytree=0.9,\n",
    "        random_state=42\n",
    "    ))\n",
    "])\n",
    "\n",
    "xgb_pipeline.fit(X_train, y_train)\n",
    "\n",
    "y_pred = xgb_pipeline.predict(X_test)\n",
    "\n",
    "\n",
    "rmse = np.sqrt(mean_squared_error(y_test, y_pred))\n",
    "mae = mean_absolute_error(y_test, y_pred)\n",
    "r2 = r2_score(y_test, y_pred)\n",
    "\n",
    "print(\"\\nXGBoost Model Performansı:\")\n",
    "print(f\"RMSE: {rmse:.2f}\")\n",
    "print(f\"MAE: {mae:.2f}\")\n",
    "print(f\"R²: {r2:.4f}\")\n",
    "\n",
    "\n",
    "def predict_price(ilce, mahalle, oda_sayisi, metrekare, bina_yasi):\n",
    "    input_data = pd.DataFrame({\n",
    "        'Room': [oda_sayisi],\n",
    "        'Size (m²)': [metrekare],\n",
    "        'Building Age': [bina_yasi],\n",
    "        'IL': ['Ankara'],\n",
    "        'ILCE': [ilce],\n",
    "        'Neighborhood': [mahalle],\n",
    "        'Room_Numeric': [convert_room(oda_sayisi)]\n",
    "    })\n",
    "\n",
    "    prediction = xgb_pipeline.predict(input_data)[0]\n",
    "    return prediction\n",
    "\n",
    "ornek_tahmin = predict_price('Çankaya', 'Bahçelievler', '3+1', 120, 15)\n",
    "print(f\"\\nÖrnek tahmin: {ornek_tahmin:.2f} TL\")\n",
    "\n",
    "joblib.dump(xgb_pipeline, 'emlak_xgboost_model.pkl')\n",
    "\n",
    "\n",
    "print(\"\\nModel ve veri seti kaydedildi.\")"
   ],
   "id": "c6c98655e87f85b4",
   "outputs": [
    {
     "name": "stdout",
     "output_type": "stream",
     "text": [
      "Doldurma sonrası Building Age eksik değer sayısı: 0\n",
      "Room_Numeric eksik değer sayısı: 0\n",
      "\n",
      "XGBoost Model Performansı:\n",
      "RMSE: 7666.32\n",
      "MAE: 5367.38\n",
      "R²: 0.5590\n",
      "\n",
      "Örnek tahmin: 28048.31 TL\n",
      "\n",
      "Model ve veri seti kaydedildi.\n"
     ]
    }
   ],
   "execution_count": 35
  },
  {
   "metadata": {
    "ExecuteTime": {
     "end_time": "2025-03-22T23:08:00.265850Z",
     "start_time": "2025-03-22T23:08:00.258114Z"
    }
   },
   "cell_type": "code",
   "source": "df_filled=df_filled.rename(columns={\"IL\":\"City\",\"ILCE\":\"District\"})",
   "id": "75f7f7eea38b6d38",
   "outputs": [],
   "execution_count": 36
  },
  {
   "metadata": {
    "ExecuteTime": {
     "end_time": "2025-03-22T23:08:01.192121Z",
     "start_time": "2025-03-22T23:08:01.181278Z"
    }
   },
   "cell_type": "code",
   "source": "df_filled.head()",
   "id": "dcba42db1c60154c",
   "outputs": [
    {
     "data": {
      "text/plain": [
       "   Price (TL) Room  Size (m²)  Building Age    City  District  \\\n",
       "0       26000  3+1        120          17.0  Ankara  Altındağ   \n",
       "1       32000  3+1        135          47.0  Ankara   Çankaya   \n",
       "2       42000  3+1        135          35.0  Ankara   Çankaya   \n",
       "3       55000  4+1        240           5.0  Ankara   Çankaya   \n",
       "4       30000  2+1         95          21.0  Ankara   Çankaya   \n",
       "\n",
       "         Neighborhood  Room_Numeric  \n",
       "0  Aydınlıkevler Mah.             4  \n",
       "1        Çankaya Mah.             4  \n",
       "2    Kavaklıdere Mah.             4  \n",
       "3      Büyükesat Mah.             5  \n",
       "4        İlkadım Mah.             3  "
      ],
      "text/html": [
       "<div>\n",
       "<style scoped>\n",
       "    .dataframe tbody tr th:only-of-type {\n",
       "        vertical-align: middle;\n",
       "    }\n",
       "\n",
       "    .dataframe tbody tr th {\n",
       "        vertical-align: top;\n",
       "    }\n",
       "\n",
       "    .dataframe thead th {\n",
       "        text-align: right;\n",
       "    }\n",
       "</style>\n",
       "<table border=\"1\" class=\"dataframe\">\n",
       "  <thead>\n",
       "    <tr style=\"text-align: right;\">\n",
       "      <th></th>\n",
       "      <th>Price (TL)</th>\n",
       "      <th>Room</th>\n",
       "      <th>Size (m²)</th>\n",
       "      <th>Building Age</th>\n",
       "      <th>City</th>\n",
       "      <th>District</th>\n",
       "      <th>Neighborhood</th>\n",
       "      <th>Room_Numeric</th>\n",
       "    </tr>\n",
       "  </thead>\n",
       "  <tbody>\n",
       "    <tr>\n",
       "      <th>0</th>\n",
       "      <td>26000</td>\n",
       "      <td>3+1</td>\n",
       "      <td>120</td>\n",
       "      <td>17.0</td>\n",
       "      <td>Ankara</td>\n",
       "      <td>Altındağ</td>\n",
       "      <td>Aydınlıkevler Mah.</td>\n",
       "      <td>4</td>\n",
       "    </tr>\n",
       "    <tr>\n",
       "      <th>1</th>\n",
       "      <td>32000</td>\n",
       "      <td>3+1</td>\n",
       "      <td>135</td>\n",
       "      <td>47.0</td>\n",
       "      <td>Ankara</td>\n",
       "      <td>Çankaya</td>\n",
       "      <td>Çankaya Mah.</td>\n",
       "      <td>4</td>\n",
       "    </tr>\n",
       "    <tr>\n",
       "      <th>2</th>\n",
       "      <td>42000</td>\n",
       "      <td>3+1</td>\n",
       "      <td>135</td>\n",
       "      <td>35.0</td>\n",
       "      <td>Ankara</td>\n",
       "      <td>Çankaya</td>\n",
       "      <td>Kavaklıdere Mah.</td>\n",
       "      <td>4</td>\n",
       "    </tr>\n",
       "    <tr>\n",
       "      <th>3</th>\n",
       "      <td>55000</td>\n",
       "      <td>4+1</td>\n",
       "      <td>240</td>\n",
       "      <td>5.0</td>\n",
       "      <td>Ankara</td>\n",
       "      <td>Çankaya</td>\n",
       "      <td>Büyükesat Mah.</td>\n",
       "      <td>5</td>\n",
       "    </tr>\n",
       "    <tr>\n",
       "      <th>4</th>\n",
       "      <td>30000</td>\n",
       "      <td>2+1</td>\n",
       "      <td>95</td>\n",
       "      <td>21.0</td>\n",
       "      <td>Ankara</td>\n",
       "      <td>Çankaya</td>\n",
       "      <td>İlkadım Mah.</td>\n",
       "      <td>3</td>\n",
       "    </tr>\n",
       "  </tbody>\n",
       "</table>\n",
       "</div>"
      ]
     },
     "execution_count": 37,
     "metadata": {},
     "output_type": "execute_result"
    }
   ],
   "execution_count": 37
  },
  {
   "metadata": {
    "ExecuteTime": {
     "end_time": "2025-03-22T23:08:02.955004Z",
     "start_time": "2025-03-22T23:08:02.938344Z"
    }
   },
   "cell_type": "code",
   "source": "df_filled.to_csv('emlak-veri-egitime-hazir.csv', index=False)",
   "id": "c7f801c932484577",
   "outputs": [],
   "execution_count": 38
  },
  {
   "metadata": {},
   "cell_type": "code",
   "outputs": [],
   "execution_count": null,
   "source": "",
   "id": "70eca12f5cb9a312"
  }
 ],
 "metadata": {
  "kernelspec": {
   "display_name": "Python 3",
   "language": "python",
   "name": "python3"
  },
  "language_info": {
   "codemirror_mode": {
    "name": "ipython",
    "version": 2
   },
   "file_extension": ".py",
   "mimetype": "text/x-python",
   "name": "python",
   "nbconvert_exporter": "python",
   "pygments_lexer": "ipython2",
   "version": "2.7.6"
  }
 },
 "nbformat": 4,
 "nbformat_minor": 5
}
