{
 "cells": [
  {
   "cell_type": "code",
   "id": "initial_id",
   "metadata": {
    "collapsed": true,
    "ExecuteTime": {
     "end_time": "2025-03-22T23:40:46.032893Z",
     "start_time": "2025-03-22T23:40:46.026123Z"
    }
   },
   "source": [
    "import pandas as pd\n",
    "import numpy as np\n",
    "from sklearn.model_selection import train_test_split, GridSearchCV\n",
    "from sklearn.preprocessing import StandardScaler, OneHotEncoder\n",
    "from sklearn.compose import ColumnTransformer\n",
    "from sklearn.pipeline import Pipeline\n",
    "from sklearn.ensemble import GradientBoostingRegressor\n",
    "from sklearn.metrics import mean_squared_error, mean_absolute_error, r2_score\n",
    "import matplotlib.pyplot as plt\n",
    "import seaborn as sns\n",
    "import joblib"
   ],
   "outputs": [],
   "execution_count": 54
  },
  {
   "metadata": {
    "ExecuteTime": {
     "end_time": "2025-03-22T23:40:46.350371Z",
     "start_time": "2025-03-22T23:40:46.345685Z"
    }
   },
   "cell_type": "code",
   "source": [
    "def load_data(filepath):\n",
    "    df = pd.read_csv(filepath)\n",
    "    return df"
   ],
   "id": "e3d5ec7f86588c7a",
   "outputs": [],
   "execution_count": 55
  },
  {
   "metadata": {
    "ExecuteTime": {
     "end_time": "2025-03-22T23:40:46.717215Z",
     "start_time": "2025-03-22T23:40:46.711438Z"
    }
   },
   "cell_type": "code",
   "source": [
    "def preprocess_data(df):\n",
    "    numeric_features = ['Size (m²)', 'Building Age', 'Room_Numeric']\n",
    "    categorical_features = ['District', 'Neighborhood']\n",
    "\n",
    "    X = df[numeric_features + categorical_features]\n",
    "    y = df['Price (TL)']\n",
    "\n",
    "    X_train, X_test, y_train, y_test = train_test_split(X, y, test_size=0.2, random_state=42)\n",
    "\n",
    "    preprocessor = ColumnTransformer(\n",
    "        transformers=[\n",
    "            ('num', StandardScaler(), numeric_features),\n",
    "            ('cat', OneHotEncoder(handle_unknown='ignore'), categorical_features)\n",
    "        ])\n",
    "\n",
    "    return X_train, X_test, y_train, y_test, preprocessor"
   ],
   "id": "6977accedea0c958",
   "outputs": [],
   "execution_count": 56
  },
  {
   "metadata": {
    "ExecuteTime": {
     "end_time": "2025-03-22T23:40:47.237701Z",
     "start_time": "2025-03-22T23:40:47.231005Z"
    }
   },
   "cell_type": "code",
   "outputs": [],
   "execution_count": 57,
   "source": [
    "def train_best_model(X_train, y_train, preprocessor):\n",
    "    model = GradientBoostingRegressor(random_state=42)\n",
    "    param_grid = {\n",
    "        'model__n_estimators': [200],\n",
    "        'model__learning_rate': [0.1],\n",
    "        'model__max_depth': [7]\n",
    "    }\n",
    "\n",
    "    pipeline = Pipeline(steps=[('preprocessor', preprocessor), ('model', model)])\n",
    "\n",
    "    grid_search = GridSearchCV(pipeline, param_grid, cv=5, scoring='neg_mean_squared_error')\n",
    "    grid_search.fit(X_train, y_train)\n",
    "\n",
    "    print(f\"En iyi RMSE: {np.sqrt(-grid_search.best_score_):.2f}\")\n",
    "\n",
    "    return grid_search.best_estimator_"
   ],
   "id": "f69fe8f02b0354c1"
  },
  {
   "metadata": {
    "ExecuteTime": {
     "end_time": "2025-03-22T23:40:47.635491Z",
     "start_time": "2025-03-22T23:40:47.628168Z"
    }
   },
   "cell_type": "code",
   "source": [
    "def evaluate_model(model, X_test, y_test):\n",
    "    y_pred = model.predict(X_test)\n",
    "\n",
    "    mse = mean_squared_error(y_test, y_pred)\n",
    "    rmse = np.sqrt(mse)\n",
    "    mae = mean_absolute_error(y_test, y_pred)\n",
    "    r2 = r2_score(y_test, y_pred)\n",
    "\n",
    "    print(\"\\nTest seti değerlendirmesi:\")\n",
    "    print(f\"RMSE: {rmse:.2f}\")\n",
    "    print(f\"MAE: {mae:.2f}\")\n",
    "    print(f\"R2 Score: {r2:.4f}\")\n",
    "\n",
    "    return {'RMSE': rmse, 'MAE': mae, 'R2': r2}"
   ],
   "id": "f5aefaad13d94b5e",
   "outputs": [],
   "execution_count": 58
  },
  {
   "metadata": {
    "ExecuteTime": {
     "end_time": "2025-03-22T23:40:48.403159Z",
     "start_time": "2025-03-22T23:40:48.397266Z"
    }
   },
   "cell_type": "code",
   "source": [
    "def save_model(model, filename='emlak_fiyat_model.pkl'):\n",
    "    joblib.dump(model, filename)\n",
    "    print(f\"\\nModel kaydedildi: {filename}\")\n",
    "    return filename"
   ],
   "id": "7c434e5bf7428861",
   "outputs": [],
   "execution_count": 59
  },
  {
   "metadata": {
    "ExecuteTime": {
     "end_time": "2025-03-22T23:40:49.022093Z",
     "start_time": "2025-03-22T23:40:49.017356Z"
    }
   },
   "cell_type": "code",
   "source": [
    "def predict_price(model, input_data):\n",
    "    input_df = pd.DataFrame([input_data])\n",
    "\n",
    "\n",
    "    predicted_price = model.predict(input_df)[0]\n",
    "    return predicted_price"
   ],
   "id": "f088b4fd207312b2",
   "outputs": [],
   "execution_count": 60
  },
  {
   "metadata": {
    "ExecuteTime": {
     "end_time": "2025-03-22T23:40:50.115252Z",
     "start_time": "2025-03-22T23:40:50.106717Z"
    }
   },
   "cell_type": "code",
   "source": [
    "def create_prediction_app(model, data_df):\n",
    "    print(\"\\n===== EMLAK FİYAT TAHMİN UYGULAMASI =====\")\n",
    "\n",
    "\n",
    "    district_list = data_df['District'].unique().tolist()\n",
    "\n",
    "    print(\"\\nMevcut ilçeler:\")\n",
    "    for i, district in enumerate(district_list, 1):\n",
    "        print(f\"{i}. {district}\")\n",
    "\n",
    "    district_idx = int(input(\"\\nİlçe numarasını seçin: \")) - 1\n",
    "    selected_district = district_list[district_idx]\n",
    "\n",
    "\n",
    "    neighborhoods = data_df[data_df['District'] == selected_district]['Neighborhood'].unique().tolist()\n",
    "\n",
    "\n",
    "    print(f\"\\n'{selected_district}' ilçesindeki mahalleler:\")\n",
    "    for i, neighborhood in enumerate(neighborhoods, 1):\n",
    "        print(f\"{i}. {neighborhood}\")\n",
    "\n",
    "\n",
    "    neighborhood_idx = int(input(\"\\nMahalle numarasını seçin: \")) - 1\n",
    "    selected_neighborhood = neighborhoods[neighborhood_idx]\n",
    "\n",
    "    size = float(input(\"\\nEmlak büyüklüğü (m²): \"))\n",
    "    room_count = int(input(\"Oda sayısı (örn: 3+1 için 4 girin): \"))\n",
    "    building_age = float(input(\"Bina yaşı: \"))\n",
    "\n",
    "    input_data = {\n",
    "        'Size (m²)': size,\n",
    "        'Building Age': building_age,\n",
    "        'Room_Numeric': room_count,\n",
    "        'District': selected_district,\n",
    "        'Neighborhood': selected_neighborhood\n",
    "    }\n",
    "\n",
    "    input_df = pd.DataFrame([input_data])\n",
    "    predicted_price = model.predict(input_df)[0]\n",
    "\n",
    "    print(f\"\\nTahmini Fiyat: {predicted_price:,.2f} TL\")\n",
    "    return"
   ],
   "id": "25664f723cb1152b",
   "outputs": [],
   "execution_count": 61
  },
  {
   "metadata": {
    "ExecuteTime": {
     "end_time": "2025-03-22T23:45:24.293047Z",
     "start_time": "2025-03-22T23:44:52.555463Z"
    }
   },
   "cell_type": "code",
   "source": [
    "def main(filepath='emlak-veri-egitime-hazir.csv'):\n",
    "    df = load_data(filepath)\n",
    "\n",
    "    X_train, X_test, y_train, y_test, preprocessor = preprocess_data(df)\n",
    "\n",
    "    best_model = train_best_model(X_train, y_train, preprocessor)\n",
    "\n",
    "    evaluate_model(best_model, X_test, y_test)\n",
    "\n",
    "    save_model(best_model)\n",
    "\n",
    "    return best_model, df\n",
    "\n",
    "\n",
    "if __name__ == \"__main__\":\n",
    "    model, df = main()\n",
    "\n",
    "    create_prediction_app(model, df)"
   ],
   "id": "47cfce4d6a530546",
   "outputs": [
    {
     "name": "stdout",
     "output_type": "stream",
     "text": [
      "En iyi RMSE: 6814.53\n",
      "\n",
      "Test seti değerlendirmesi:\n",
      "RMSE: 7044.29\n",
      "MAE: 4796.70\n",
      "R2 Score: 0.6276\n",
      "\n",
      "Model kaydedildi: emlak_fiyat_model.pkl\n",
      "\n",
      "===== EMLAK FİYAT TAHMİN UYGULAMASI =====\n",
      "\n",
      "Mevcut ilçeler:\n",
      "1. Altındağ\n",
      "2. Çankaya\n",
      "3. Etimesgut\n",
      "4. Polatlı\n",
      "5. Gölbaşı\n",
      "6. Yenimahalle\n",
      "7. Keçiören\n",
      "8. Mamak\n",
      "9. Sincan\n",
      "10. Çubuk\n",
      "11. Pursaklar\n",
      "12. Nallıhan\n",
      "13. Akyurt\n",
      "14. Şereflikoçhisar\n",
      "15. Kahramankazan\n",
      "16. Kızılcahamam\n",
      "17. Elmadağ\n",
      "\n",
      "'Altındağ' ilçesindeki mahalleler:\n",
      "1. Aydınlıkevler Mah.\n",
      "2. Örnek Mah.\n",
      "3. Battalgazi Mah.\n",
      "4. Doğantepe Mah.\n",
      "5. Güneşevler Mah.\n",
      "6. Hacettepe Mah.\n",
      "7. Karapürçek Mah.\n",
      "8. Zübeyde Hanım Mah.\n",
      "9. Başpınar Mah.\n",
      "10. Gültepe Mah.\n",
      "11. Feridun Çelik Mah.\n",
      "12. Baraj Mah.\n",
      "13. Yıldıztepe Mah.\n",
      "14. Beşikkaya Mah.\n",
      "15. Karacaören Mah.\n",
      "16. Merkez\n",
      "17. Ulubey\n",
      "18. Yeşilöz\n",
      "19. Hasköy\n",
      "\n",
      "Tahmini Fiyat: 22,076.06 TL\n"
     ]
    }
   ],
   "execution_count": 64
  },
  {
   "metadata": {},
   "cell_type": "code",
   "outputs": [],
   "execution_count": null,
   "source": "",
   "id": "f9e5c6efe8acdfde"
  }
 ],
 "metadata": {
  "kernelspec": {
   "display_name": "Python 3",
   "language": "python",
   "name": "python3"
  },
  "language_info": {
   "codemirror_mode": {
    "name": "ipython",
    "version": 2
   },
   "file_extension": ".py",
   "mimetype": "text/x-python",
   "name": "python",
   "nbconvert_exporter": "python",
   "pygments_lexer": "ipython2",
   "version": "2.7.6"
  }
 },
 "nbformat": 4,
 "nbformat_minor": 5
}
